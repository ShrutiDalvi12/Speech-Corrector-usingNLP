{
 "cells": [
  {
   "cell_type": "code",
   "execution_count": null,
   "metadata": {},
   "outputs": [],
   "source": []
  },
  {
   "cell_type": "code",
   "execution_count": 1,
   "metadata": {},
   "outputs": [
    {
     "name": "stdout",
     "output_type": "stream",
     "text": [
      "Collecting SpeechRecognition\n",
      "  Downloading SpeechRecognition-3.10.0-py2.py3-none-any.whl (32.8 MB)\n",
      "Collecting pyttsx3\n",
      "  Downloading pyttsx3-2.90-py3-none-any.whl (39 kB)\n",
      "Collecting requests>=2.26.0\n",
      "  Using cached requests-2.31.0-py3-none-any.whl (62 kB)\n",
      "Requirement already satisfied: pywin32; platform_system == \"Windows\" in c:\\users\\dell\\anaconda3\\lib\\site-packages (from pyttsx3) (227)\n",
      "Requirement already satisfied: comtypes; platform_system == \"Windows\" in c:\\users\\dell\\anaconda3\\lib\\site-packages (from pyttsx3) (1.1.7)\n",
      "Collecting pypiwin32; platform_system == \"Windows\"\n",
      "  Downloading pypiwin32-223-py3-none-any.whl (1.7 kB)\n",
      "Requirement already satisfied: urllib3<3,>=1.21.1 in c:\\users\\dell\\anaconda3\\lib\\site-packages (from requests>=2.26.0->SpeechRecognition) (1.25.11)\n",
      "Collecting charset-normalizer<4,>=2\n",
      "  Downloading charset_normalizer-3.3.0-cp38-cp38-win_amd64.whl (97 kB)\n",
      "Requirement already satisfied: idna<4,>=2.5 in c:\\users\\dell\\anaconda3\\lib\\site-packages (from requests>=2.26.0->SpeechRecognition) (2.10)\n",
      "Requirement already satisfied: certifi>=2017.4.17 in c:\\users\\dell\\anaconda3\\lib\\site-packages (from requests>=2.26.0->SpeechRecognition) (2020.6.20)\n",
      "Installing collected packages: charset-normalizer, requests, SpeechRecognition, pypiwin32, pyttsx3\n",
      "  Attempting uninstall: requests\n",
      "    Found existing installation: requests 2.24.0\n",
      "    Uninstalling requests-2.24.0:\n",
      "      Successfully uninstalled requests-2.24.0\n",
      "Successfully installed SpeechRecognition-3.10.0 charset-normalizer-3.3.0 pypiwin32-223 pyttsx3-2.90 requests-2.31.0\n",
      "Note: you may need to restart the kernel to use updated packages.\n"
     ]
    },
    {
     "name": "stderr",
     "output_type": "stream",
     "text": [
      "ERROR: After October 2020 you may experience errors when installing or updating packages. This is because pip will change the way that it resolves dependency conflicts.\n",
      "\n",
      "We recommend you use --use-feature=2020-resolver to test your packages with the new resolver before it becomes the default.\n",
      "\n",
      "conda 4.10.3 requires ruamel_yaml_conda>=0.11.14, which is not installed.\n",
      "conda-repo-cli 1.0.4 requires pathlib, which is not installed.\n"
     ]
    }
   ],
   "source": [
    "pip install SpeechRecognition pyttsx3"
   ]
  },
  {
   "cell_type": "code",
   "execution_count": 5,
   "metadata": {},
   "outputs": [
    {
     "name": "stdout",
     "output_type": "stream",
     "text": [
      "Collecting PyAudio\n",
      "  Downloading PyAudio-0.2.13-cp38-cp38-win_amd64.whl (164 kB)\n",
      "Installing collected packages: PyAudio\n",
      "Successfully installed PyAudio-0.2.13\n",
      "Note: you may need to restart the kernel to use updated packages.\n"
     ]
    }
   ],
   "source": [
    "pip install PyAudio"
   ]
  },
  {
   "cell_type": "code",
   "execution_count": 22,
   "metadata": {},
   "outputs": [
    {
     "name": "stdout",
     "output_type": "stream",
     "text": [
      "Please speak a word:\n",
      "Sorry, I could not understand what you said. Please speak again\n",
      "Please speak a word:\n",
      "You said: Aviator Aviator\n"
     ]
    }
   ],
   "source": [
    "import speech_recognition as sr\n",
    "import pyttsx3\n",
    "\n",
    "# Initialize the speech recognition recognizer\n",
    "recognizer = sr.Recognizer()\n",
    "\n",
    "# Initialize the text-to-speech engine\n",
    "engine = pyttsx3.init()\n",
    "\n",
    "def listen_to_microphone():\n",
    "    with sr.Microphone() as source:\n",
    "        print(\"Please speak a word:\")\n",
    "        recognizer.adjust_for_ambient_noise(source)  # Adjust for ambient noise\n",
    "        audio = recognizer.listen(source)\n",
    "\n",
    "    try:\n",
    "        # Recognize the speech\n",
    "        text = recognizer.recognize_google(audio)\n",
    "        print(\"You said:\", text)\n",
    "\n",
    "        # Use text-to-speech to provide pronunciation\n",
    "        engine.say(f\"The pronunciation of {text} is {text}\")\n",
    "        engine.runAndWait()\n",
    "\n",
    "    except sr.UnknownValueError:\n",
    "        print(\"Sorry, I could not understand what you said. Please speak again\")\n",
    "        listen_to_microphone()\n",
    "        \n",
    "    except sr.RequestError as e:\n",
    "        print(\"Error connecting to the Google API: {0}\".format(e))\n",
    "    except Exception as e:\n",
    "        print(\"An error occurred: {0}\".format(e))\n",
    "\n",
    "if __name__ == \"__main__\":\n",
    "    listen_to_microphone()"
   ]
  },
  {
   "cell_type": "code",
   "execution_count": 32,
   "metadata": {},
   "outputs": [
    {
     "name": "stdout",
     "output_type": "stream",
     "text": [
      "Please speak the word:\n",
      "You said: banaa\n",
      "You pronounced it incorrect, please try again\n",
      "Please speak the word:\n",
      "You said: banana\n",
      "You pronounced it correct\n",
      "Attempt:2\n"
     ]
    }
   ],
   "source": [
    "# Initialize the speech recognition recognizer\n",
    "recognizer = sr.Recognizer()\n",
    "\n",
    "# Initialize the text-to-speech engine\n",
    "engine = pyttsx3.init()\n",
    "count=1\n",
    "def listen_to_microphone(word,count):\n",
    "    with sr.Microphone() as source:\n",
    "        print(\"Please speak the word:\")\n",
    "        recognizer.adjust_for_ambient_noise(source)  # Adjust for ambient noise\n",
    "        audio = recognizer.listen(source)\n",
    "\n",
    "    try:\n",
    "        # Recognize the speech\n",
    "        text = recognizer.recognize_google(audio)\n",
    "        print(\"You said:\", text)\n",
    "        text=text.lower()\n",
    "        if text==word:\n",
    "            print('You pronounced it correct')\n",
    "            print(f'Attempt:{count}')\n",
    "            engine.say(f\"You pronounced it correct\")\n",
    "        else:\n",
    "            print('You pronounced it incorrect, please try again')\n",
    "            engine.say(f\"You pronounced it incorrect\")\n",
    "            count+=1\n",
    "            listen_to_microphone(word,count)\n",
    "\n",
    "        # Use text-to-speech to provide pronunciation\n",
    "        engine.say(f\"The pronunciation of {word} is {word}\")\n",
    "        engine.runAndWait()\n",
    "\n",
    "    except sr.UnknownValueError:\n",
    "        print(\"Sorry, I could not understand what you said. Please speak again\")\n",
    "        listen_to_microphone(word,count)\n",
    "        \n",
    "    except sr.RequestError as e:\n",
    "        print(\"Error connecting to the Google API: {0}\".format(e))\n",
    "    except Exception as e:\n",
    "        print(\"An error occurred: {0}\".format(e))\n",
    "\n",
    "if __name__ == \"__main__\":\n",
    "    listen_to_microphone('banana',count)"
   ]
  },
  {
   "cell_type": "code",
   "execution_count": 33,
   "metadata": {},
   "outputs": [
    {
     "name": "stdout",
     "output_type": "stream",
     "text": [
      "Collecting eng-to-ipa\n",
      "  Downloading eng_to_ipa-0.0.2.tar.gz (2.8 MB)\n",
      "Building wheels for collected packages: eng-to-ipa\n",
      "  Building wheel for eng-to-ipa (setup.py): started\n",
      "  Building wheel for eng-to-ipa (setup.py): finished with status 'done'\n",
      "  Created wheel for eng-to-ipa: filename=eng_to_ipa-0.0.2-py3-none-any.whl size=2822640 sha256=82a104389abab31baa0705b1611f923fa6e15681758868bc047b30ca87c9b99cNote: you may need to restart the kernel to use updated packages.\n",
      "\n",
      "  Stored in directory: c:\\users\\dell\\appdata\\local\\pip\\cache\\wheels\\5f\\0a\\16\\f1b8092572a4e9633637f86725c1df149c2d0bfdd017d7601f\n",
      "Successfully built eng-to-ipa\n",
      "Installing collected packages: eng-to-ipa\n",
      "Successfully installed eng-to-ipa-0.0.2\n"
     ]
    }
   ],
   "source": [
    "pip install eng-to-ipa"
   ]
  },
  {
   "cell_type": "code",
   "execution_count": 34,
   "metadata": {},
   "outputs": [],
   "source": [
    "import eng_to_ipa as ipa"
   ]
  },
  {
   "cell_type": "code",
   "execution_count": 43,
   "metadata": {},
   "outputs": [
    {
     "name": "stdout",
     "output_type": "stream",
     "text": [
      "Please speak the word:\n",
      "You said: bug\n",
      "You pronounced it incorrect, please try again\n",
      "pronunciation of the word is : bæg\n",
      "Please speak the word:\n",
      "You said: Bagh\n",
      "You pronounced it incorrect, please try again\n",
      "pronunciation of the word is : bæg\n",
      "Please speak the word:\n",
      "Sorry, I could not understand what you said. Please speak again\n",
      "Please speak the word:\n",
      "Sorry, I could not understand what you said. Please speak again\n",
      "Please speak the word:\n",
      "You said: bag\n",
      "You pronounced it correct\n",
      "Attempt:3\n"
     ]
    }
   ],
   "source": [
    "# Initialize the speech recognition recognizer\n",
    "recognizer = sr.Recognizer()\n",
    "\n",
    "# Initialize the text-to-speech engine\n",
    "engine = pyttsx3.init()\n",
    "count=1\n",
    "record_seconds=5\n",
    "def listen_to_microphone(word,count,record_seconds):\n",
    "    with sr.Microphone() as source:\n",
    "        print(\"Please speak the word:\")\n",
    "        recognizer.adjust_for_ambient_noise(source)  # Adjust for ambient noise\n",
    "        audio = recognizer.listen(source,timeout=record_seconds)\n",
    "\n",
    "    try:\n",
    "        # Recognize the speech\n",
    "        text = recognizer.recognize_google(audio)\n",
    "        print(\"You said:\", text)\n",
    "        text=text.lower()\n",
    "        if text==word:\n",
    "            print('You pronounced it correct')\n",
    "            print(f'Attempt:{count}')\n",
    "            engine.say(f\"You pronounced it correct\")\n",
    "        else:\n",
    "            print('You pronounced it incorrect, please try again')\n",
    "            #engine.say(f\"You pronounced it incorrect\")\n",
    "            pronounce=ipa.convert(word)\n",
    "            print(f'pronunciation of the word is : {pronounce}')\n",
    "            count+=1\n",
    "            listen_to_microphone(word,count,record_seconds)\n",
    "\n",
    "        # Use text-to-speech to provide pronunciation\n",
    "        engine.say(f\"The pronunciation of {word} is {word}\")\n",
    "        engine.runAndWait()\n",
    "\n",
    "    except sr.UnknownValueError:\n",
    "        print(\"Sorry, I could not understand what you said. Please speak again\")\n",
    "        listen_to_microphone(word,count,record_seconds)\n",
    "        \n",
    "    except sr.RequestError as e:\n",
    "        print(\"Error connecting to the Google API: {0}\".format(e))\n",
    "    except Exception as e:\n",
    "        print(\"An error occurred: {0}\".format(e))\n",
    "\n",
    "if __name__ == \"__main__\":\n",
    "    listen_to_microphone('bag',count,record_seconds)"
   ]
  },
  {
   "cell_type": "code",
   "execution_count": 42,
   "metadata": {},
   "outputs": [
    {
     "name": "stdout",
     "output_type": "stream",
     "text": [
      "Requirement already satisfied: spellchecker in c:\\users\\dell\\anaconda3\\lib\\site-packages (0.4)Note: you may need to restart the kernel to use updated packages.\n",
      "\n",
      "Requirement already satisfied: inexactsearch in c:\\users\\dell\\anaconda3\\lib\\site-packages (from spellchecker) (1.0.2)\n",
      "Requirement already satisfied: setuptools in c:\\users\\dell\\anaconda3\\lib\\site-packages (from spellchecker) (50.3.1.post20201107)\n",
      "Requirement already satisfied: soundex>=1.0 in c:\\users\\dell\\anaconda3\\lib\\site-packages (from inexactsearch->spellchecker) (1.1.3)\n",
      "Requirement already satisfied: silpa-common>=0.3 in c:\\users\\dell\\anaconda3\\lib\\site-packages (from inexactsearch->spellchecker) (0.3)\n"
     ]
    }
   ],
   "source": [
    "pip install spellchecker"
   ]
  },
  {
   "cell_type": "code",
   "execution_count": null,
   "metadata": {},
   "outputs": [],
   "source": []
  },
  {
   "cell_type": "code",
   "execution_count": 4,
   "metadata": {},
   "outputs": [
    {
     "name": "stdout",
     "output_type": "stream",
     "text": [
      "Collecting indexer\n",
      "  Using cached indexer-0.6.2.tar.gz (14 kB)\n",
      "Note: you may need to restart the kernel to use updated packages.\n"
     ]
    },
    {
     "name": "stderr",
     "output_type": "stream",
     "text": [
      "    ERROR: Command errored out with exit status 1:\n",
      "     command: 'C:\\Users\\Dell\\anaconda3\\python.exe' -c 'import sys, setuptools, tokenize; sys.argv[0] = '\"'\"'C:\\\\Users\\\\Dell\\\\AppData\\\\Local\\\\Temp\\\\pip-install-nioq_lev\\\\indexer\\\\setup.py'\"'\"'; __file__='\"'\"'C:\\\\Users\\\\Dell\\\\AppData\\\\Local\\\\Temp\\\\pip-install-nioq_lev\\\\indexer\\\\setup.py'\"'\"';f=getattr(tokenize, '\"'\"'open'\"'\"', open)(__file__);code=f.read().replace('\"'\"'\\r\\n'\"'\"', '\"'\"'\\n'\"'\"');f.close();exec(compile(code, __file__, '\"'\"'exec'\"'\"'))' egg_info --egg-base 'C:\\Users\\Dell\\AppData\\Local\\Temp\\pip-pip-egg-info-bj3sn8se'\n",
      "         cwd: C:\\Users\\Dell\\AppData\\Local\\Temp\\pip-install-nioq_lev\\indexer\\\n",
      "    Complete output (6 lines):\n",
      "    Traceback (most recent call last):\n",
      "      File \"<string>\", line 1, in <module>\n",
      "      File \"C:\\Users\\Dell\\AppData\\Local\\Temp\\pip-install-nioq_lev\\indexer\\setup.py\", line 107\n",
      "        except OSError, ex:\n",
      "                      ^\n",
      "    SyntaxError: invalid syntax\n",
      "    ----------------------------------------\n",
      "ERROR: Command errored out with exit status 1: python setup.py egg_info Check the logs for full command output.\n"
     ]
    }
   ],
   "source": [
    "pip install indexer"
   ]
  },
  {
   "cell_type": "code",
   "execution_count": 12,
   "metadata": {},
   "outputs": [
    {
     "name": "stdout",
     "output_type": "stream",
     "text": [
      "Processing c:\\users\\dell\\appdata\\local\\pip\\cache\\wheels\\f5\\e3\\fd\\9d49c61c34dd99995c2d38f6b94fd33bfa7a559e3bfd8f3041\\spellchecker-0.4-py3-none-any.whl\n",
      "Requirement already satisfied: inexactsearch in c:\\users\\dell\\anaconda3\\lib\\site-packages (from spellchecker) (1.0.2)\n",
      "Requirement already satisfied: setuptools in c:\\users\\dell\\anaconda3\\lib\\site-packages (from spellchecker) (50.3.1.post20201107)\n",
      "Requirement already satisfied: soundex>=1.0 in c:\\users\\dell\\anaconda3\\lib\\site-packages (from inexactsearch->spellchecker) (1.1.3)\n",
      "Requirement already satisfied: silpa-common>=0.3 in c:\\users\\dell\\anaconda3\\lib\\site-packages (from inexactsearch->spellchecker) (0.3)\n",
      "Installing collected packages: spellchecker\n",
      "Note: you may need to restart the kernel to use updated packages.\n"
     ]
    },
    {
     "name": "stderr",
     "output_type": "stream",
     "text": [
      "ERROR: Could not install packages due to an EnvironmentError: [Errno 28] No space left on device\n",
      "\n"
     ]
    }
   ],
   "source": [
    "pip install spellchecker"
   ]
  },
  {
   "cell_type": "code",
   "execution_count": 11,
   "metadata": {},
   "outputs": [
    {
     "name": "stdout",
     "output_type": "stream",
     "text": [
      "Collecting pyenchant\n",
      "  Downloading pyenchant-3.2.2-py3-none-win_amd64.whl (11.9 MB)\n",
      "Installing collected packages: pyenchant\n",
      "Note: you may need to restart the kernel to use updated packages.\n"
     ]
    },
    {
     "name": "stderr",
     "output_type": "stream",
     "text": [
      "ERROR: Could not install packages due to an EnvironmentError: [Errno 28] No space left on device\n",
      "\n"
     ]
    }
   ],
   "source": [
    "pip install pyenchant\n"
   ]
  },
  {
   "cell_type": "code",
   "execution_count": 17,
   "metadata": {},
   "outputs": [
    {
     "name": "stdout",
     "output_type": "stream",
     "text": [
      "Collecting gTTS\n",
      "  Downloading gTTS-2.4.0-py3-none-any.whl (29 kB)\n",
      "Requirement already satisfied: requests<3,>=2.27 in c:\\users\\dell\\anaconda3\\lib\\site-packages (from gTTS) (2.31.0)\n",
      "Requirement already satisfied: click<8.2,>=7.1 in c:\\users\\dell\\anaconda3\\lib\\site-packages (from gTTS) (7.1.2)\n",
      "Requirement already satisfied: urllib3<3,>=1.21.1 in c:\\users\\dell\\anaconda3\\lib\\site-packages (from requests<3,>=2.27->gTTS) (1.25.11)\n",
      "Requirement already satisfied: certifi>=2017.4.17 in c:\\users\\dell\\anaconda3\\lib\\site-packages (from requests<3,>=2.27->gTTS) (2020.6.20)\n",
      "Requirement already satisfied: charset-normalizer<4,>=2 in c:\\users\\dell\\anaconda3\\lib\\site-packages (from requests<3,>=2.27->gTTS) (3.3.0)\n",
      "Requirement already satisfied: idna<4,>=2.5 in c:\\users\\dell\\anaconda3\\lib\\site-packages (from requests<3,>=2.27->gTTS) (2.10)\n",
      "Installing collected packages: gTTS\n",
      "Successfully installed gTTS-2.4.0\n",
      "Note: you may need to restart the kernel to use updated packages.\n"
     ]
    }
   ],
   "source": [
    "pip install gTTS"
   ]
  },
  {
   "cell_type": "code",
   "execution_count": 1,
   "metadata": {},
   "outputs": [
    {
     "name": "stdout",
     "output_type": "stream",
     "text": [
      "Please speak something in hi...\n",
      "Sorry, could not understand the audio (hi).\n",
      "Please speak something in en...\n",
      "Sorry, could not understand the audio (en).\n"
     ]
    },
    {
     "data": {
      "text/plain": [
       "0"
      ]
     },
     "execution_count": 1,
     "metadata": {},
     "output_type": "execute_result"
    }
   ],
   "source": [
    "import speech_recognition as sr\n",
    "from gtts import gTTS\n",
    "import os\n",
    "\n",
    "# Initialize the recognizer\n",
    "recognizer = sr.Recognizer()\n",
    "input_device_index='pipe:0'\n",
    "# Function to convert speech to text and provide pronunciation\n",
    "def speech_to_text_and_pronunciation(language):\n",
    "    try:\n",
    "        with sr.Microphone() as source:\n",
    "            print(f\"Please speak something in {language}...\")\n",
    "            audio = recognizer.listen(source)\n",
    "\n",
    "        # Perform speech-to-text conversion\n",
    "        text = recognizer.recognize_google(audio, language=language)\n",
    "        print(f\"Text ({language}): {text}\")\n",
    "\n",
    "        # Provide pronunciation using gTTS\n",
    "        pronunciation = gTTS(text, lang=language, slow=False)\n",
    "        pronunciation.save(\"pronunciation.mp3\")\n",
    "        print(\"Pronunciation saved as pronunciation.mp3\")\n",
    "\n",
    "    except sr.UnknownValueError:\n",
    "        print(f\"Sorry, could not understand the audio ({language}).\")\n",
    "    except sr.RequestError as e:\n",
    "        print(f\"Could not request results; {e}\")\n",
    "\n",
    "# Perform speech-to-text and pronunciation for Hindi\n",
    "speech_to_text_and_pronunciation(\"hi\")\n",
    "\n",
    "# Perform speech-to-text and pronunciation for English\n",
    "speech_to_text_and_pronunciation(\"en\")\n",
    "\n",
    "# Play the pronunciation (requires a player installed)\n",
    "os.system(\"start pronunciation.mp3\")"
   ]
  },
  {
   "cell_type": "code",
   "execution_count": 4,
   "metadata": {},
   "outputs": [
    {
     "name": "stdout",
     "output_type": "stream",
     "text": [
      "Please speak something in hi...\n",
      "Text (hi): ट्रबल ट्रबल\n",
      "Pronunciation saved as pronunciation.mp3\n"
     ]
    }
   ],
   "source": [
    "speech_to_text_and_pronunciation(\"hi\")"
   ]
  },
  {
   "cell_type": "code",
   "execution_count": null,
   "metadata": {},
   "outputs": [],
   "source": []
  }
 ],
 "metadata": {
  "kernelspec": {
   "display_name": "Python 3",
   "language": "python",
   "name": "python3"
  },
  "language_info": {
   "codemirror_mode": {
    "name": "ipython",
    "version": 3
   },
   "file_extension": ".py",
   "mimetype": "text/x-python",
   "name": "python",
   "nbconvert_exporter": "python",
   "pygments_lexer": "ipython3",
   "version": "3.8.5"
  }
 },
 "nbformat": 4,
 "nbformat_minor": 4
}
